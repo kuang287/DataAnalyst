{
 "cells": [
  {
   "cell_type": "markdown",
   "metadata": {},
   "source": [
    "# Ford GoBike Data Exploration\n",
    "## by Xuan Kuang\n",
    "\n",
    "## Preliminary Wrangling\n",
    "\n",
    "> This document explores a dataset including information about individual rides made in a bike-sharing system covering the greater San Francisco Bay area from Jan, 2018 to Dec, 2018."
   ]
  },
  {
   "cell_type": "code",
   "execution_count": 1,
   "metadata": {},
   "outputs": [],
   "source": [
    "# import all packages and set plots to be embedded inline\n",
    "import glob\n",
    "import os\n",
    "import calendar\n",
    "import numpy as np\n",
    "import pandas as pd\n",
    "import matplotlib.pyplot as plt\n",
    "import seaborn as sb\n",
    "\n",
    "%matplotlib inline"
   ]
  },
  {
   "cell_type": "code",
   "execution_count": 2,
   "metadata": {},
   "outputs": [],
   "source": [
    "#loop and read all csv files in datasets folder\n",
    "path = './datasets'\n",
    "files = glob.glob(os.path.join(path, \"*.csv\"))\n",
    "data_list = []\n",
    "\n",
    "for file in files:\n",
    "    df = pd.read_csv(file, index_col=None, header=0)\n",
    "    data_list.append(df)\n",
    "\n",
    "#concat all the data into one dataframe\n",
    "bikes = pd.concat(data_list, axis=0, ignore_index=True)"
   ]
  },
  {
   "cell_type": "code",
   "execution_count": 3,
   "metadata": {
    "scrolled": true
   },
   "outputs": [],
   "source": [
    "#export dataframe to csv file\n",
    "bikes.to_csv('bikes_raw.csv', index = False)"
   ]
  },
  {
   "cell_type": "code",
   "execution_count": 4,
   "metadata": {},
   "outputs": [
    {
     "data": {
      "text/html": [
       "<div>\n",
       "<style scoped>\n",
       "    .dataframe tbody tr th:only-of-type {\n",
       "        vertical-align: middle;\n",
       "    }\n",
       "\n",
       "    .dataframe tbody tr th {\n",
       "        vertical-align: top;\n",
       "    }\n",
       "\n",
       "    .dataframe thead th {\n",
       "        text-align: right;\n",
       "    }\n",
       "</style>\n",
       "<table border=\"1\" class=\"dataframe\">\n",
       "  <thead>\n",
       "    <tr style=\"text-align: right;\">\n",
       "      <th></th>\n",
       "      <th>duration_sec</th>\n",
       "      <th>start_time</th>\n",
       "      <th>end_time</th>\n",
       "      <th>start_station_id</th>\n",
       "      <th>start_station_name</th>\n",
       "      <th>start_station_latitude</th>\n",
       "      <th>start_station_longitude</th>\n",
       "      <th>end_station_id</th>\n",
       "      <th>end_station_name</th>\n",
       "      <th>end_station_latitude</th>\n",
       "      <th>end_station_longitude</th>\n",
       "      <th>bike_id</th>\n",
       "      <th>user_type</th>\n",
       "      <th>bike_share_for_all_trip</th>\n",
       "    </tr>\n",
       "  </thead>\n",
       "  <tbody>\n",
       "    <tr>\n",
       "      <th>0</th>\n",
       "      <td>75284</td>\n",
       "      <td>2018-01-31 22:52:35.2390</td>\n",
       "      <td>2018-02-01 19:47:19.8240</td>\n",
       "      <td>120.0</td>\n",
       "      <td>Mission Dolores Park</td>\n",
       "      <td>37.761420</td>\n",
       "      <td>-122.426435</td>\n",
       "      <td>285.0</td>\n",
       "      <td>Webster St at O'Farrell St</td>\n",
       "      <td>37.783521</td>\n",
       "      <td>-122.431158</td>\n",
       "      <td>2765</td>\n",
       "      <td>Subscriber</td>\n",
       "      <td>No</td>\n",
       "    </tr>\n",
       "    <tr>\n",
       "      <th>1</th>\n",
       "      <td>85422</td>\n",
       "      <td>2018-01-31 16:13:34.3510</td>\n",
       "      <td>2018-02-01 15:57:17.3100</td>\n",
       "      <td>15.0</td>\n",
       "      <td>San Francisco Ferry Building (Harry Bridges Pl...</td>\n",
       "      <td>37.795392</td>\n",
       "      <td>-122.394203</td>\n",
       "      <td>15.0</td>\n",
       "      <td>San Francisco Ferry Building (Harry Bridges Pl...</td>\n",
       "      <td>37.795392</td>\n",
       "      <td>-122.394203</td>\n",
       "      <td>2815</td>\n",
       "      <td>Customer</td>\n",
       "      <td>No</td>\n",
       "    </tr>\n",
       "    <tr>\n",
       "      <th>2</th>\n",
       "      <td>71576</td>\n",
       "      <td>2018-01-31 14:23:55.8890</td>\n",
       "      <td>2018-02-01 10:16:52.1160</td>\n",
       "      <td>304.0</td>\n",
       "      <td>Jackson St at 5th St</td>\n",
       "      <td>37.348759</td>\n",
       "      <td>-121.894798</td>\n",
       "      <td>296.0</td>\n",
       "      <td>5th St at Virginia St</td>\n",
       "      <td>37.325998</td>\n",
       "      <td>-121.877120</td>\n",
       "      <td>3039</td>\n",
       "      <td>Customer</td>\n",
       "      <td>No</td>\n",
       "    </tr>\n",
       "    <tr>\n",
       "      <th>3</th>\n",
       "      <td>61076</td>\n",
       "      <td>2018-01-31 14:53:23.5620</td>\n",
       "      <td>2018-02-01 07:51:20.5000</td>\n",
       "      <td>75.0</td>\n",
       "      <td>Market St at Franklin St</td>\n",
       "      <td>37.773793</td>\n",
       "      <td>-122.421239</td>\n",
       "      <td>47.0</td>\n",
       "      <td>4th St at Harrison St</td>\n",
       "      <td>37.780955</td>\n",
       "      <td>-122.399749</td>\n",
       "      <td>321</td>\n",
       "      <td>Customer</td>\n",
       "      <td>No</td>\n",
       "    </tr>\n",
       "    <tr>\n",
       "      <th>4</th>\n",
       "      <td>39966</td>\n",
       "      <td>2018-01-31 19:52:24.6670</td>\n",
       "      <td>2018-02-01 06:58:31.0530</td>\n",
       "      <td>74.0</td>\n",
       "      <td>Laguna St at Hayes St</td>\n",
       "      <td>37.776435</td>\n",
       "      <td>-122.426244</td>\n",
       "      <td>19.0</td>\n",
       "      <td>Post St at Kearny St</td>\n",
       "      <td>37.788975</td>\n",
       "      <td>-122.403452</td>\n",
       "      <td>617</td>\n",
       "      <td>Subscriber</td>\n",
       "      <td>No</td>\n",
       "    </tr>\n",
       "  </tbody>\n",
       "</table>\n",
       "</div>"
      ],
      "text/plain": [
       "   duration_sec                start_time                  end_time  \\\n",
       "0         75284  2018-01-31 22:52:35.2390  2018-02-01 19:47:19.8240   \n",
       "1         85422  2018-01-31 16:13:34.3510  2018-02-01 15:57:17.3100   \n",
       "2         71576  2018-01-31 14:23:55.8890  2018-02-01 10:16:52.1160   \n",
       "3         61076  2018-01-31 14:53:23.5620  2018-02-01 07:51:20.5000   \n",
       "4         39966  2018-01-31 19:52:24.6670  2018-02-01 06:58:31.0530   \n",
       "\n",
       "   start_station_id                                 start_station_name  \\\n",
       "0             120.0                               Mission Dolores Park   \n",
       "1              15.0  San Francisco Ferry Building (Harry Bridges Pl...   \n",
       "2             304.0                               Jackson St at 5th St   \n",
       "3              75.0                           Market St at Franklin St   \n",
       "4              74.0                              Laguna St at Hayes St   \n",
       "\n",
       "   start_station_latitude  start_station_longitude  end_station_id  \\\n",
       "0               37.761420              -122.426435           285.0   \n",
       "1               37.795392              -122.394203            15.0   \n",
       "2               37.348759              -121.894798           296.0   \n",
       "3               37.773793              -122.421239            47.0   \n",
       "4               37.776435              -122.426244            19.0   \n",
       "\n",
       "                                    end_station_name  end_station_latitude  \\\n",
       "0                         Webster St at O'Farrell St             37.783521   \n",
       "1  San Francisco Ferry Building (Harry Bridges Pl...             37.795392   \n",
       "2                              5th St at Virginia St             37.325998   \n",
       "3                              4th St at Harrison St             37.780955   \n",
       "4                               Post St at Kearny St             37.788975   \n",
       "\n",
       "   end_station_longitude  bike_id   user_type bike_share_for_all_trip  \n",
       "0            -122.431158     2765  Subscriber                      No  \n",
       "1            -122.394203     2815    Customer                      No  \n",
       "2            -121.877120     3039    Customer                      No  \n",
       "3            -122.399749      321    Customer                      No  \n",
       "4            -122.403452      617  Subscriber                      No  "
      ]
     },
     "execution_count": 4,
     "metadata": {},
     "output_type": "execute_result"
    }
   ],
   "source": [
    "#read data from csv\n",
    "bikes=pd.read_csv('bikes_raw.csv')\n",
    "bikes.head()"
   ]
  },
  {
   "cell_type": "code",
   "execution_count": 5,
   "metadata": {
    "scrolled": true
   },
   "outputs": [
    {
     "name": "stdout",
     "output_type": "stream",
     "text": [
      "<class 'pandas.core.frame.DataFrame'>\n",
      "RangeIndex: 1863721 entries, 0 to 1863720\n",
      "Data columns (total 14 columns):\n",
      " #   Column                   Dtype  \n",
      "---  ------                   -----  \n",
      " 0   duration_sec             int64  \n",
      " 1   start_time               object \n",
      " 2   end_time                 object \n",
      " 3   start_station_id         float64\n",
      " 4   start_station_name       object \n",
      " 5   start_station_latitude   float64\n",
      " 6   start_station_longitude  float64\n",
      " 7   end_station_id           float64\n",
      " 8   end_station_name         object \n",
      " 9   end_station_latitude     float64\n",
      " 10  end_station_longitude    float64\n",
      " 11  bike_id                  int64  \n",
      " 12  user_type                object \n",
      " 13  bike_share_for_all_trip  object \n",
      "dtypes: float64(6), int64(2), object(6)\n",
      "memory usage: 199.1+ MB\n"
     ]
    }
   ],
   "source": [
    "#check the info of dataset\n",
    "bikes.info()"
   ]
  },
  {
   "cell_type": "code",
   "execution_count": 6,
   "metadata": {},
   "outputs": [
    {
     "data": {
      "text/plain": [
       "Subscriber    1583554\n",
       "Customer       280167\n",
       "Name: user_type, dtype: int64"
      ]
     },
     "execution_count": 6,
     "metadata": {},
     "output_type": "execute_result"
    }
   ],
   "source": [
    "#check user type value\n",
    "bikes.user_type.value_counts()"
   ]
  },
  {
   "cell_type": "code",
   "execution_count": 7,
   "metadata": {},
   "outputs": [],
   "source": [
    "#make copy of dataset for cleaning\n",
    "bikes_clean=bikes.copy()"
   ]
  },
  {
   "cell_type": "code",
   "execution_count": 8,
   "metadata": {},
   "outputs": [],
   "source": [
    "#drop the unuseful columns\n",
    "bikes_clean=bikes_clean.drop(['start_station_id','start_station_name','end_station_id','end_station_name','end_station_latitude','end_station_longitude','bike_id','bike_share_for_all_trip'],axis=1)"
   ]
  },
  {
   "cell_type": "code",
   "execution_count": 9,
   "metadata": {},
   "outputs": [],
   "source": [
    "#change data type to datetime for columns start_time and end_time\n",
    "bikes_clean.start_time=pd.to_datetime(bikes_clean.start_time)\n",
    "bikes_clean.end_time=pd.to_datetime(bikes_clean.end_time)\n",
    "\n",
    "#change data type to category for user_type with order\n",
    "cat_user=['Subscriber','Customer']\n",
    "bikes_clean['user_type'] = pd.Categorical(bikes_clean['user_type'], ordered=True, categories=cat_user)"
   ]
  },
  {
   "cell_type": "code",
   "execution_count": 10,
   "metadata": {
    "scrolled": true
   },
   "outputs": [
    {
     "name": "stdout",
     "output_type": "stream",
     "text": [
      "<class 'pandas.core.frame.DataFrame'>\n",
      "RangeIndex: 1863721 entries, 0 to 1863720\n",
      "Data columns (total 6 columns):\n",
      " #   Column                   Dtype         \n",
      "---  ------                   -----         \n",
      " 0   duration_sec             int64         \n",
      " 1   start_time               datetime64[ns]\n",
      " 2   end_time                 datetime64[ns]\n",
      " 3   start_station_latitude   float64       \n",
      " 4   start_station_longitude  float64       \n",
      " 5   user_type                category      \n",
      "dtypes: category(1), datetime64[ns](2), float64(2), int64(1)\n",
      "memory usage: 72.9 MB\n"
     ]
    }
   ],
   "source": [
    "#confirm data type updated\n",
    "bikes_clean.info()"
   ]
  },
  {
   "cell_type": "code",
   "execution_count": 11,
   "metadata": {
    "scrolled": true
   },
   "outputs": [
    {
     "data": {
      "text/plain": [
       "duration_sec               0\n",
       "start_time                 0\n",
       "end_time                   0\n",
       "start_station_latitude     0\n",
       "start_station_longitude    0\n",
       "user_type                  0\n",
       "dtype: int64"
      ]
     },
     "execution_count": 11,
     "metadata": {},
     "output_type": "execute_result"
    }
   ],
   "source": [
    "#check null data\n",
    "bikes_clean.isnull().sum()"
   ]
  },
  {
   "cell_type": "code",
   "execution_count": 12,
   "metadata": {},
   "outputs": [
    {
     "data": {
      "text/html": [
       "<div>\n",
       "<style scoped>\n",
       "    .dataframe tbody tr th:only-of-type {\n",
       "        vertical-align: middle;\n",
       "    }\n",
       "\n",
       "    .dataframe tbody tr th {\n",
       "        vertical-align: top;\n",
       "    }\n",
       "\n",
       "    .dataframe thead th {\n",
       "        text-align: right;\n",
       "    }\n",
       "</style>\n",
       "<table border=\"1\" class=\"dataframe\">\n",
       "  <thead>\n",
       "    <tr style=\"text-align: right;\">\n",
       "      <th></th>\n",
       "      <th>duration_sec</th>\n",
       "      <th>start_time</th>\n",
       "      <th>end_time</th>\n",
       "      <th>start_station_latitude</th>\n",
       "      <th>start_station_longitude</th>\n",
       "      <th>user_type</th>\n",
       "    </tr>\n",
       "  </thead>\n",
       "  <tbody>\n",
       "  </tbody>\n",
       "</table>\n",
       "</div>"
      ],
      "text/plain": [
       "Empty DataFrame\n",
       "Columns: [duration_sec, start_time, end_time, start_station_latitude, start_station_longitude, user_type]\n",
       "Index: []"
      ]
     },
     "execution_count": 12,
     "metadata": {},
     "output_type": "execute_result"
    }
   ],
   "source": [
    "#check if any duplicates\n",
    "bikes_clean[bikes_clean.duplicated()]"
   ]
  },
  {
   "cell_type": "markdown",
   "metadata": {},
   "source": [
    "- the datasets is for the San Francisco Bay area, and Latitude and longitude coordinates of San Francisco are: 37.773972, -122.431297"
   ]
  },
  {
   "cell_type": "code",
   "execution_count": 13,
   "metadata": {},
   "outputs": [],
   "source": [
    "#extract month value from start_time column and order by month\n",
    "bikes_clean['month'] = bikes_clean.start_time.dt.month\n",
    "bikes_clean['month'] = bikes_clean['month'].apply(lambda x: calendar.month_abbr[x])\n",
    "cat_month = ['Jan', 'Feb', 'Mar', 'Apr','May', 'Jun', 'Jul', 'Aug', 'Sep', 'Oct', 'Nov', 'Dec']\n",
    "bikes_clean['month'] = pd.Categorical(bikes_clean['month'], ordered=True, categories=cat_month)\n",
    "\n",
    "#extract day of week value from start_time column and order by day of week\n",
    "bikes_clean['day'] = bikes_clean.start_time.dt.day_name()\n",
    "bikes_clean['day'] = bikes_clean['day'].apply(lambda x: x[:4] if x=='Thursday' else x[:3])\n",
    "cat_day = ['Mon','Tue','Wed','Thur','Fri','Sat','Sun']\n",
    "bikes_clean['day'] = pd.Categorical(bikes_clean['day'], ordered=True, categories=cat_day)\n",
    "\n",
    "#extract hour from start_time column\n",
    "bikes_clean['hour'] = bikes_clean.start_time.dt.hour\n",
    "bikes_clean['hour'] = bikes_clean['hour'].astype('category')"
   ]
  },
  {
   "cell_type": "code",
   "execution_count": 14,
   "metadata": {},
   "outputs": [
    {
     "data": {
      "text/html": [
       "<div>\n",
       "<style scoped>\n",
       "    .dataframe tbody tr th:only-of-type {\n",
       "        vertical-align: middle;\n",
       "    }\n",
       "\n",
       "    .dataframe tbody tr th {\n",
       "        vertical-align: top;\n",
       "    }\n",
       "\n",
       "    .dataframe thead th {\n",
       "        text-align: right;\n",
       "    }\n",
       "</style>\n",
       "<table border=\"1\" class=\"dataframe\">\n",
       "  <thead>\n",
       "    <tr style=\"text-align: right;\">\n",
       "      <th></th>\n",
       "      <th>duration_sec</th>\n",
       "      <th>start_time</th>\n",
       "      <th>end_time</th>\n",
       "      <th>start_station_latitude</th>\n",
       "      <th>start_station_longitude</th>\n",
       "      <th>user_type</th>\n",
       "      <th>month</th>\n",
       "      <th>day</th>\n",
       "      <th>hour</th>\n",
       "    </tr>\n",
       "  </thead>\n",
       "  <tbody>\n",
       "    <tr>\n",
       "      <th>0</th>\n",
       "      <td>75284</td>\n",
       "      <td>2018-01-31 22:52:35.239</td>\n",
       "      <td>2018-02-01 19:47:19.824</td>\n",
       "      <td>37.761420</td>\n",
       "      <td>-122.426435</td>\n",
       "      <td>Subscriber</td>\n",
       "      <td>Jan</td>\n",
       "      <td>Wed</td>\n",
       "      <td>22</td>\n",
       "    </tr>\n",
       "    <tr>\n",
       "      <th>1</th>\n",
       "      <td>85422</td>\n",
       "      <td>2018-01-31 16:13:34.351</td>\n",
       "      <td>2018-02-01 15:57:17.310</td>\n",
       "      <td>37.795392</td>\n",
       "      <td>-122.394203</td>\n",
       "      <td>Customer</td>\n",
       "      <td>Jan</td>\n",
       "      <td>Wed</td>\n",
       "      <td>16</td>\n",
       "    </tr>\n",
       "    <tr>\n",
       "      <th>2</th>\n",
       "      <td>71576</td>\n",
       "      <td>2018-01-31 14:23:55.889</td>\n",
       "      <td>2018-02-01 10:16:52.116</td>\n",
       "      <td>37.348759</td>\n",
       "      <td>-121.894798</td>\n",
       "      <td>Customer</td>\n",
       "      <td>Jan</td>\n",
       "      <td>Wed</td>\n",
       "      <td>14</td>\n",
       "    </tr>\n",
       "    <tr>\n",
       "      <th>3</th>\n",
       "      <td>61076</td>\n",
       "      <td>2018-01-31 14:53:23.562</td>\n",
       "      <td>2018-02-01 07:51:20.500</td>\n",
       "      <td>37.773793</td>\n",
       "      <td>-122.421239</td>\n",
       "      <td>Customer</td>\n",
       "      <td>Jan</td>\n",
       "      <td>Wed</td>\n",
       "      <td>14</td>\n",
       "    </tr>\n",
       "    <tr>\n",
       "      <th>4</th>\n",
       "      <td>39966</td>\n",
       "      <td>2018-01-31 19:52:24.667</td>\n",
       "      <td>2018-02-01 06:58:31.053</td>\n",
       "      <td>37.776435</td>\n",
       "      <td>-122.426244</td>\n",
       "      <td>Subscriber</td>\n",
       "      <td>Jan</td>\n",
       "      <td>Wed</td>\n",
       "      <td>19</td>\n",
       "    </tr>\n",
       "  </tbody>\n",
       "</table>\n",
       "</div>"
      ],
      "text/plain": [
       "   duration_sec              start_time                end_time  \\\n",
       "0         75284 2018-01-31 22:52:35.239 2018-02-01 19:47:19.824   \n",
       "1         85422 2018-01-31 16:13:34.351 2018-02-01 15:57:17.310   \n",
       "2         71576 2018-01-31 14:23:55.889 2018-02-01 10:16:52.116   \n",
       "3         61076 2018-01-31 14:53:23.562 2018-02-01 07:51:20.500   \n",
       "4         39966 2018-01-31 19:52:24.667 2018-02-01 06:58:31.053   \n",
       "\n",
       "   start_station_latitude  start_station_longitude   user_type month  day hour  \n",
       "0               37.761420              -122.426435  Subscriber   Jan  Wed   22  \n",
       "1               37.795392              -122.394203    Customer   Jan  Wed   16  \n",
       "2               37.348759              -121.894798    Customer   Jan  Wed   14  \n",
       "3               37.773793              -122.421239    Customer   Jan  Wed   14  \n",
       "4               37.776435              -122.426244  Subscriber   Jan  Wed   19  "
      ]
     },
     "execution_count": 14,
     "metadata": {},
     "output_type": "execute_result"
    }
   ],
   "source": [
    "bikes_clean.head()"
   ]
  },
  {
   "cell_type": "code",
   "execution_count": 15,
   "metadata": {
    "scrolled": false
   },
   "outputs": [
    {
     "name": "stdout",
     "output_type": "stream",
     "text": [
      "<class 'pandas.core.frame.DataFrame'>\n",
      "RangeIndex: 1863721 entries, 0 to 1863720\n",
      "Data columns (total 9 columns):\n",
      " #   Column                   Dtype         \n",
      "---  ------                   -----         \n",
      " 0   duration_sec             int64         \n",
      " 1   start_time               datetime64[ns]\n",
      " 2   end_time                 datetime64[ns]\n",
      " 3   start_station_latitude   float64       \n",
      " 4   start_station_longitude  float64       \n",
      " 5   user_type                category      \n",
      " 6   month                    category      \n",
      " 7   day                      category      \n",
      " 8   hour                     category      \n",
      "dtypes: category(4), datetime64[ns](2), float64(2), int64(1)\n",
      "memory usage: 78.2 MB\n"
     ]
    }
   ],
   "source": [
    "bikes_clean.info()"
   ]
  },
  {
   "cell_type": "code",
   "execution_count": 16,
   "metadata": {
    "scrolled": true
   },
   "outputs": [
    {
     "data": {
      "text/plain": [
       "Tue     319332\n",
       "Wed     316374\n",
       "Thur    314124\n",
       "Mon     294573\n",
       "Fri     290390\n",
       "Sat     175614\n",
       "Sun     153314\n",
       "Name: day, dtype: int64"
      ]
     },
     "execution_count": 16,
     "metadata": {},
     "output_type": "execute_result"
    }
   ],
   "source": [
    "#confirm the day of week value\n",
    "bikes_clean.day.value_counts()"
   ]
  },
  {
   "cell_type": "code",
   "execution_count": 17,
   "metadata": {},
   "outputs": [
    {
     "data": {
      "text/plain": [
       "Oct    201458\n",
       "Jul    199222\n",
       "Jun    195968\n",
       "Aug    192162\n",
       "Sep    186217\n",
       "May    179125\n",
       "Nov    134135\n",
       "Dec    131363\n",
       "Apr    131169\n",
       "Mar    111382\n",
       "Feb    106718\n",
       "Jan     94802\n",
       "Name: month, dtype: int64"
      ]
     },
     "execution_count": 17,
     "metadata": {},
     "output_type": "execute_result"
    }
   ],
   "source": [
    "#confirm month counts\n",
    "bikes_clean.month.value_counts()"
   ]
  },
  {
   "cell_type": "code",
   "execution_count": 18,
   "metadata": {},
   "outputs": [
    {
     "data": {
      "text/plain": [
       "17    220014\n",
       "8     206729\n",
       "18    171335\n",
       "9     160974\n",
       "16    143045\n",
       "19    103930\n",
       "7     101793\n",
       "15     96747\n",
       "12     90140\n",
       "13     87780\n",
       "10     84232\n",
       "14     83207\n",
       "11     79511\n",
       "20     66566\n",
       "21     46956\n",
       "6      36359\n",
       "22     31056\n",
       "23     18645\n",
       "0      10234\n",
       "5      10027\n",
       "1       5884\n",
       "2       3697\n",
       "4       2740\n",
       "3       2120\n",
       "Name: hour, dtype: int64"
      ]
     },
     "execution_count": 18,
     "metadata": {},
     "output_type": "execute_result"
    }
   ],
   "source": [
    "#confirm hour counts\n",
    "bikes_clean.hour.value_counts()"
   ]
  },
  {
   "cell_type": "code",
   "execution_count": 19,
   "metadata": {},
   "outputs": [
    {
     "data": {
      "text/plain": [
       "duration_sec               0\n",
       "start_time                 0\n",
       "end_time                   0\n",
       "start_station_latitude     0\n",
       "start_station_longitude    0\n",
       "user_type                  0\n",
       "month                      0\n",
       "day                        0\n",
       "hour                       0\n",
       "dtype: int64"
      ]
     },
     "execution_count": 19,
     "metadata": {},
     "output_type": "execute_result"
    }
   ],
   "source": [
    "#confirm no null value\n",
    "bikes_clean.isnull().sum()"
   ]
  },
  {
   "cell_type": "markdown",
   "metadata": {},
   "source": [
    "### Structure of the dataset\n",
    "\n",
    "> There are 1,863,721 bike riding records in the dataset with 9 features (duration_sec, start_time, end_time, start_station_latitude, start_station_longitude, user_type, month, day, and hour). Most variables are category type, which are created during the data wrangling.\n",
    "> The variables month, day, user_type are ordered factor variables with the following levels.\n",
    "> \n",
    "> (earlier) ——> (later)\n",
    "> - month: Jan, Feb, Mar, Apr, May, Jun, Jul, Aug, Sep, Oct, Nov, Dec\n",
    "> - day: Mon, Tue, Wed, Thur, Fri, Sat, Sun\n",
    "> \n",
    "> (more) ——> (less)\n",
    "> - user_type: Subscriber, Customer\n",
    "\n",
    "### Main feature(s) of interest in the dataset\n",
    "\n",
    "> I'm most interested in figuring out when and where bikes are in high demand during the hour/day of week and between different location.\n",
    "> Moreover, I'm looking for user type patterns crossed the demand of bikes, duration, time of usage, and location of start station.\n",
    "\n",
    "### Features in the dataset expect to support the investigation into the feature(s) of interest.\n",
    "\n",
    "> I expect that the start time (month, weekday/weekend, hour) will have the strongest effect on the demand of bike rides.\n",
    "> Also I expect that there will be differences on duration and time of usage between different user type."
   ]
  },
  {
   "cell_type": "markdown",
   "metadata": {},
   "source": [
    "## Univariate Exploration\n",
    "\n",
    "> I'll start by looking at the distribution duration of bike rides."
   ]
  },
  {
   "cell_type": "markdown",
   "metadata": {},
   "source": [
    "**Duration**"
   ]
  },
  {
   "cell_type": "code",
   "execution_count": 20,
   "metadata": {
    "scrolled": true
   },
   "outputs": [
    {
     "data": {
      "image/png": "[encoded data removed]",
      "text/plain": [
       "<Figure size 432x288 with 1 Axes>"
      ]
     },
     "metadata": {
      "needs_background": "light"
     },
     "output_type": "display_data"
    }
   ],
   "source": [
    "#plot distribution of bike rides duration\n",
    "bins_edges=np.arange(0,3600,60)\n",
    "plt.hist(bikes_clean.duration_sec,bins=bins_edges);\n",
    "plt.title('Distribution of bike rides duration (sec)');\n",
    "plt.xlabel('Duration (sec)');\n",
    "plt.ylabel('Counts');"
   ]
  },
  {
   "cell_type": "markdown",
   "metadata": {},
   "source": [
    "> Since there are many outliers above the most of the duration in the datasets, I will only view the data with duration less than 3600s(one hour) to look into the distribution of most data.\n",
    ">\n",
    "> Duration has a long-tailed distribution, with a lot of bike rides records on short duration, and few on long duration. The right-skewed distribution with one peak between around 500, which is about 8 mins. \n",
    ">\n",
    "> We can see that most of the bike rides duration is no longer than 1800 seconds (30 mins) and usually lasts about 6 to 15 mins. This can be explained by below two facts:\n",
    "> - Pricing: For customers(non-subscribers), single trip up to 30 mins are free of additional charge, and there is additional charge for additional 15 mins. Only subscribers with month/annual pass receive 45-min rides for free. People will tend to spend at least less than 30 mins to avoid addition charge.\n",
    "> - Usage: Commuting may probably be the most common usage for the bike riding system. Therefore, the duration is usually short due to the short distance between users' home and workplace/school.\n",
    "\n",
    "> Next up, we will check the variable `user_type` to see if the pricing has effect on the distribution on user types."
   ]
  },
  {
   "cell_type": "markdown",
   "metadata": {},
   "source": [
    "**User Type**"
   ]
  },
  {
   "cell_type": "code",
   "execution_count": 21,
   "metadata": {
    "scrolled": false
   },
   "outputs": [
    {
     "data": {
      "image/png": "[encoded data removed]",
      "text/plain": [
       "<Figure size 432x288 with 1 Axes>"
      ]
     },
     "metadata": {},
     "output_type": "display_data"
    }
   ],
   "source": [
    "#plot the pie chart for user type\n",
    "(bikes_clean.user_type.value_counts()).plot(kind = 'pie',autopct='%.0f%%')\n",
    "plt.title('Percentage of User Type');\n",
    "plt.ylabel('');"
   ]
  },
  {
   "cell_type": "markdown",
   "metadata": {},
   "source": [
    "> There are 85% of the users in the dataset using bike rides are Subscriber, which is over 5 times of Customer at 15%.\n",
    "> \n",
    "> For long term or frequently used riders, annual/month pass will has competitive price per ride compared to non-subcribed riders.\n",
    "\n",
    "> Next up, I'll now look at the other features in the data to see if any of them effects the bike demand."
   ]
  },
  {
   "cell_type": "markdown",
   "metadata": {},
   "source": [
    "**Month (extract from start_time)**"
   ]
  },
  {
   "cell_type": "code",
   "execution_count": 22,
   "metadata": {
    "scrolled": true
   },
   "outputs": [
    {
     "data": {
      "image/png": "[encoded data removed]",
      "text/plain": [
       "<Figure size 432x288 with 1 Axes>"
      ]
     },
     "metadata": {
      "needs_background": "light"
     },
     "output_type": "display_data"
    }
   ],
   "source": [
    "#plot the bar chart to see the counts by month\n",
    "default_color = sb.color_palette()[0]\n",
    "sb.countplot(data = bikes_clean, x = 'month', color = default_color);\n",
    "plt.title('Counts of Rides by Month');"
   ]
  },
  {
   "cell_type": "markdown",
   "metadata": {},
   "source": [
    "> From the above plot we can find that there are higher demands of bike rides in May to October compared to other months in 2018.We may consider the difference on demand between months is related to climate.People may usually choose other transportation methods other than bike during the rainy or cold weather.\n",
    "- Temperature: In San Francisco Bay area, June to November were warmer than the other months.\n",
    "- Rainfall: A lot of rain (rainy season) falls in the months: November to March, and dry periods from May to October.\n",
    "> \n",
    "> While noticed that the number of bike usage suddenly went off in Nov, which may relate to the air pollution caused by the California wildfire in Nov, 2018."
   ]
  },
  {
   "cell_type": "markdown",
   "metadata": {},
   "source": [
    "**Day and Hour(extract from start_time)**"
   ]
  },
  {
   "cell_type": "code",
   "execution_count": 23,
   "metadata": {
    "scrolled": true
   },
   "outputs": [
    {
     "data": {
      "image/png": "[encoded data removed]",
      "text/plain": [
       "<Figure size 1008x360 with 2 Axes>"
      ]
     },
     "metadata": {
      "needs_background": "light"
     },
     "output_type": "display_data"
    }
   ],
   "source": [
    "# plot bar chart to see the distribution of day and hour\n",
    "#set columns number and figure size.\n",
    "fig, ax = plt.subplots(ncols=2, figsize = [14,5])\n",
    "#plot the bar chart to see the counts by day of week\n",
    "sb.countplot(data = bikes_clean, x = 'day', color = default_color,ax=ax[0]);\n",
    "\n",
    "#plot the bar chart to see the counts by hour\n",
    "sb.countplot(data = bikes_clean, x = 'hour', color = default_color,ax=ax[1]);"
   ]
  },
  {
   "cell_type": "markdown",
   "metadata": {},
   "source": [
    "> - Day of Week: The number of bike usage is about 300k from Monday to Friday, while it went down almost half to around 150k on Saturday and Sunday. It looks like the bike demand at weekends is not as high as weekdays.\n",
    "> \n",
    "> - Hour: The peak hours are obvious shown from the above chart. We can see the number of bike usage during 8am - 9am and 4pm - 6pm is significantly higher than the other period.\n",
    "> \n",
    "> From the above two plots, we can find that the peak hours for bike usage is likely to be 8am - 9am and 4pm - 6pm at weekdays. It is likely that people took bike rides for commuting. I will look into the number of bike usage on both of day and hour together in the next section Bivariate Exploration to confirm.\n",
    "> \n",
    "> Next, I will see if there is any difference on the bike demand between different `location`."
   ]
  },
  {
   "cell_type": "markdown",
   "metadata": {},
   "source": [
    "**Location**"
   ]
  },
  {
   "cell_type": "code",
   "execution_count": 24,
   "metadata": {},
   "outputs": [
    {
     "data": {
      "image/png": "[encoded data removed]",
      "text/plain": [
       "<Figure size 432x288 with 1 Axes>"
      ]
     },
     "metadata": {
      "needs_background": "light"
     },
     "output_type": "display_data"
    }
   ],
   "source": [
    "#some data are outside the San Francisco Bay area\n",
    "plt.scatter(x=bikes_clean.start_station_longitude,y=bikes_clean.start_station_latitude,alpha=0.1);\n",
    "plt.xlabel('Longitude');\n",
    "plt.ylabel('Latitude');"
   ]
  },
  {
   "cell_type": "code",
   "execution_count": 25,
   "metadata": {},
   "outputs": [],
   "source": [
    "#filter out the data outside the San Francisco Bay area\n",
    "bikes_clean=bikes_clean[bikes_clean.start_station_longitude<-120]"
   ]
  },
  {
   "cell_type": "markdown",
   "metadata": {},
   "source": [
    "- Ford GoBike is operated in San Francisco Bay Area under three main areas in 2018: San Jose, San Francisco and East Bay.\n",
    "- Based on the longitude and latitude of start station, create the new column location with values San Jose,San Francisc and East Bay."
   ]
  },
  {
   "cell_type": "code",
   "execution_count": 26,
   "metadata": {
    "scrolled": true
   },
   "outputs": [
    {
     "data": {
      "image/png": "[encoded data removed]",
      "text/plain": [
       "<Figure size 432x288 with 1 Axes>"
      ]
     },
     "metadata": {
      "needs_background": "light"
     },
     "output_type": "display_data"
    }
   ],
   "source": [
    "#plot scatter chart to see the location distribution\n",
    "plt.scatter(x=bikes_clean.start_station_longitude,y=bikes_clean.start_station_latitude,alpha=0.1);\n",
    "plt.xlabel('Longitude');\n",
    "plt.ylabel('Latitude');\n",
    "plt.text(-122,37.48, 'San Jose', fontsize=12);\n",
    "plt.text(-122.5,37.65, 'San Francisco', fontsize=12);\n",
    "plt.text(-122.3,37.7, 'East Bay', fontsize=12);"
   ]
  },
  {
   "cell_type": "code",
   "execution_count": 27,
   "metadata": {},
   "outputs": [],
   "source": [
    "#create new column location\n",
    "bikes_clean['location']=(\n",
    "    np.where(\n",
    "        bikes_clean['start_station_longitude'] <-122.35, \n",
    "        'San Francisco', \n",
    "        np.where(bikes_clean['start_station_longitude'] >-122.1, 'San Jose', 'East Bay')))\n",
    "\n",
    "#change data type of location to category with order\n",
    "cat_location = ['San Francisco','East Bay','San Jose']\n",
    "bikes_clean['location'] = pd.Categorical(bikes_clean['location'], ordered=True, categories=cat_location)"
   ]
  },
  {
   "cell_type": "code",
   "execution_count": 28,
   "metadata": {
    "scrolled": true
   },
   "outputs": [
    {
     "name": "stdout",
     "output_type": "stream",
     "text": [
      "<class 'pandas.core.frame.DataFrame'>\n",
      "Int64Index: 1863710 entries, 0 to 1863720\n",
      "Data columns (total 10 columns):\n",
      " #   Column                   Dtype         \n",
      "---  ------                   -----         \n",
      " 0   duration_sec             int64         \n",
      " 1   start_time               datetime64[ns]\n",
      " 2   end_time                 datetime64[ns]\n",
      " 3   start_station_latitude   float64       \n",
      " 4   start_station_longitude  float64       \n",
      " 5   user_type                category      \n",
      " 6   month                    category      \n",
      " 7   day                      category      \n",
      " 8   hour                     category      \n",
      " 9   location                 category      \n",
      "dtypes: category(5), datetime64[ns](2), float64(2), int64(1)\n",
      "memory usage: 94.2 MB\n"
     ]
    }
   ],
   "source": [
    "#confirm new column created with correct data type\n",
    "bikes_clean.info()"
   ]
  },
  {
   "cell_type": "code",
   "execution_count": 29,
   "metadata": {
    "scrolled": false
   },
   "outputs": [
    {
     "data": {
      "image/png": "[encoded data removed]",
      "text/plain": [
       "<Figure size 432x288 with 1 Axes>"
      ]
     },
     "metadata": {},
     "output_type": "display_data"
    }
   ],
   "source": [
    "#plot the pie chart for percentage of rides by location\n",
    "(bikes_clean.location.value_counts()).plot(kind = 'pie',autopct='%.0f%%')\n",
    "plt.title('Percentage of Rides by Location');\n",
    "plt.ylabel('');"
   ]
  },
  {
   "cell_type": "markdown",
   "metadata": {},
   "source": [
    "> There are 73% of the bike rides in San Francisco, which covered most of the bike rides in the dataset, while East Bay is 22%, followed by San Jose of 5%.\n",
    "> \n",
    "> This shows that the bike demands of San Francisco is higher than the other two regions."
   ]
  },
  {
   "cell_type": "markdown",
   "metadata": {},
   "source": [
    "### Discuss the distribution(s) of your variable(s) of interest. Were there any unusual points? Did you need to perform any transformations?\n",
    "\n",
    "> The pair of variables start_station_latitude and start_station_longitude were drawed in the scatterplot to discover the station location. And there are points with longitudes greater than -80, which don't belong to San Francisco Bay area. After remove these records, there were 3 clusters recognized as San Francisco, East Bay and San Jose. A new variable location was created with these values.\n",
    "\n",
    "### Of the features you investigated, were there any unusual distributions? Did you perform any operations on the data to tidy, adjust, or change the form of the data? If so, why did you do this?\n",
    "\n",
    "> When investigating the duration_sec variable, a number of outlier points were identified. In order to look into the distribution of most data, I have plotted the data with duration less than 3600s(one hour). And I found out that Duration has a long-tailed distribution, with a lot of bike rides records on short duration, and few on long duration. The right-skewed distribution with one peak between around 500, which is about 8 mins.\n",
    "> \n",
    "> The month of bike rides was extracted from the start_time variable. There were more rides between May and October. This may relate to the differences of temperature and rainfall between months. Also there was wildfire in Nov, 2018 in California, which coincides with the bike usage falled down in November.\n",
    "> \n",
    "> The day and hour of bike rides were extracted from the start_time variable. There were more rides at weekdays, during 8am - 9am and 4pm - 6pm. It is likely that people took bike rides for commuting so that the demand of bikes in both rush hours and weekdays is higher than other time."
   ]
  },
  {
   "cell_type": "markdown",
   "metadata": {},
   "source": [
    "## Bivariate Exploration\n",
    "\n",
    "> To start off with, I want to look at the ride counts of variables `hour` and `day` to see if there is any difference on the hourly bike usage between weekday and weekend."
   ]
  },
  {
   "cell_type": "markdown",
   "metadata": {},
   "source": [
    "**Hour and Day (extract from start_time)**"
   ]
  },
  {
   "cell_type": "code",
   "execution_count": 30,
   "metadata": {
    "scrolled": true
   },
   "outputs": [
    {
     "data": {
      "text/html": [
       "<div>\n",
       "<style scoped>\n",
       "    .dataframe tbody tr th:only-of-type {\n",
       "        vertical-align: middle;\n",
       "    }\n",
       "\n",
       "    .dataframe tbody tr th {\n",
       "        vertical-align: top;\n",
       "    }\n",
       "\n",
       "    .dataframe thead th {\n",
       "        text-align: right;\n",
       "    }\n",
       "</style>\n",
       "<table border=\"1\" class=\"dataframe\">\n",
       "  <thead>\n",
       "    <tr style=\"text-align: right;\">\n",
       "      <th></th>\n",
       "      <th>hour</th>\n",
       "      <th>weekday_or_weekend</th>\n",
       "      <th>day</th>\n",
       "    </tr>\n",
       "  </thead>\n",
       "  <tbody>\n",
       "    <tr>\n",
       "      <th>0</th>\n",
       "      <td>0</td>\n",
       "      <td>weekday</td>\n",
       "      <td>5741</td>\n",
       "    </tr>\n",
       "    <tr>\n",
       "      <th>1</th>\n",
       "      <td>0</td>\n",
       "      <td>weekend</td>\n",
       "      <td>4493</td>\n",
       "    </tr>\n",
       "    <tr>\n",
       "      <th>2</th>\n",
       "      <td>1</td>\n",
       "      <td>weekday</td>\n",
       "      <td>2963</td>\n",
       "    </tr>\n",
       "    <tr>\n",
       "      <th>3</th>\n",
       "      <td>1</td>\n",
       "      <td>weekend</td>\n",
       "      <td>2921</td>\n",
       "    </tr>\n",
       "    <tr>\n",
       "      <th>4</th>\n",
       "      <td>2</td>\n",
       "      <td>weekday</td>\n",
       "      <td>1916</td>\n",
       "    </tr>\n",
       "  </tbody>\n",
       "</table>\n",
       "</div>"
      ],
      "text/plain": [
       "  hour weekday_or_weekend   day\n",
       "0    0            weekday  5741\n",
       "1    0            weekend  4493\n",
       "2    1            weekday  2963\n",
       "3    1            weekend  2921\n",
       "4    2            weekday  1916"
      ]
     },
     "execution_count": 30,
     "metadata": {},
     "output_type": "execute_result"
    }
   ],
   "source": [
    "#create column weekday_or_weekend based on day of week\n",
    "bikes_clean['weekday_or_weekend']=bikes_clean['day'].apply(lambda x: 'weekend' if (x =='Sat' or x =='Sun') else 'weekday')\n",
    "\n",
    "#create sub df for plot\n",
    "#ride counts grouped by hour and weekday/weekend\n",
    "bikes_clean_hour_day=bikes_clean.groupby(['hour','weekday_or_weekend']).count().reset_index()[['hour','weekday_or_weekend','day']]\n",
    "bikes_clean_hour_day.head()"
   ]
  },
  {
   "cell_type": "code",
   "execution_count": 31,
   "metadata": {},
   "outputs": [
    {
     "data": {
      "image/png": "[encoded data removed]",
      "text/plain": [
       "<Figure size 720x432 with 1 Axes>"
      ]
     },
     "metadata": {
      "needs_background": "light"
     },
     "output_type": "display_data"
    }
   ],
   "source": [
    "#plot bar and line chart for counts of ride based on start hour and weekday/weekend\n",
    "plt.figure(figsize = [10, 6])\n",
    "sb.countplot(x='hour',hue='weekday_or_weekend',data=bikes_clean)\n",
    "sb.lineplot(x='hour',y='day',hue='weekday_or_weekend',data=bikes_clean_hour_day,legend=False);\n",
    "plt.title(\"Hourly Bike Usage on Weekday/Weekend\", fontsize=16, y=1.03);\n",
    "plt.xlabel(\"Hour\", fontsize=12);\n",
    "plt.ylabel(\"Counts\", fontsize=12);"
   ]
  },
  {
   "cell_type": "markdown",
   "metadata": {},
   "source": [
    "> Peak hours of bike rides are 7 am-9 am and 4 pm-6 pm. And there are more people taking bike rides on weekdays compared to weekends.\n",
    "> \n",
    "> Peak hours is not observed on weekends. Users might ride bikes on weekends for leisure purpose. Thus, there is no clear peak hours.\n",
    "> \n",
    "> From the above plots, it is most probably that the main purpose for users to ride bikes is commuting. This can explain why there is higher demand during the rush hours at weekdays.\n",
    "\n",
    "> Now, let's take a second look at the user type patterns by different `month`, `day`, `hour`, `location` and `duration`."
   ]
  },
  {
   "cell_type": "markdown",
   "metadata": {},
   "source": [
    "**User_Type and Month (extract from start_time)**"
   ]
  },
  {
   "cell_type": "code",
   "execution_count": 32,
   "metadata": {},
   "outputs": [
    {
     "data": {
      "text/html": [
       "<div>\n",
       "<style scoped>\n",
       "    .dataframe tbody tr th:only-of-type {\n",
       "        vertical-align: middle;\n",
       "    }\n",
       "\n",
       "    .dataframe tbody tr th {\n",
       "        vertical-align: top;\n",
       "    }\n",
       "\n",
       "    .dataframe thead th {\n",
       "        text-align: right;\n",
       "    }\n",
       "</style>\n",
       "<table border=\"1\" class=\"dataframe\">\n",
       "  <thead>\n",
       "    <tr style=\"text-align: right;\">\n",
       "      <th></th>\n",
       "      <th>month</th>\n",
       "      <th>user_type</th>\n",
       "      <th>day</th>\n",
       "    </tr>\n",
       "  </thead>\n",
       "  <tbody>\n",
       "    <tr>\n",
       "      <th>0</th>\n",
       "      <td>Jan</td>\n",
       "      <td>Subscriber</td>\n",
       "      <td>82458</td>\n",
       "    </tr>\n",
       "    <tr>\n",
       "      <th>1</th>\n",
       "      <td>Jan</td>\n",
       "      <td>Customer</td>\n",
       "      <td>12344</td>\n",
       "    </tr>\n",
       "    <tr>\n",
       "      <th>2</th>\n",
       "      <td>Feb</td>\n",
       "      <td>Subscriber</td>\n",
       "      <td>91857</td>\n",
       "    </tr>\n",
       "    <tr>\n",
       "      <th>3</th>\n",
       "      <td>Feb</td>\n",
       "      <td>Customer</td>\n",
       "      <td>14861</td>\n",
       "    </tr>\n",
       "    <tr>\n",
       "      <th>4</th>\n",
       "      <td>Mar</td>\n",
       "      <td>Subscriber</td>\n",
       "      <td>95075</td>\n",
       "    </tr>\n",
       "  </tbody>\n",
       "</table>\n",
       "</div>"
      ],
      "text/plain": [
       "  month   user_type    day\n",
       "0   Jan  Subscriber  82458\n",
       "1   Jan    Customer  12344\n",
       "2   Feb  Subscriber  91857\n",
       "3   Feb    Customer  14861\n",
       "4   Mar  Subscriber  95075"
      ]
     },
     "execution_count": 32,
     "metadata": {},
     "output_type": "execute_result"
    }
   ],
   "source": [
    "#create sub dataframe for ride counts group by month and user type\n",
    "bikes_clean_month_user=bikes_clean.groupby(['month','user_type']).count().reset_index()[['month','user_type','day']]\n",
    "bikes_clean_month_user.head()"
   ]
  },
  {
   "cell_type": "code",
   "execution_count": 33,
   "metadata": {
    "scrolled": true
   },
   "outputs": [
    {
     "data": {
      "image/png": "[encoded data removed]",
      "text/plain": [
       "<Figure size 576x360 with 1 Axes>"
      ]
     },
     "metadata": {
      "needs_background": "light"
     },
     "output_type": "display_data"
    }
   ],
   "source": [
    "#plot line chart for counts of ride based on month and user type\n",
    "plt.figure(figsize = [8, 5])\n",
    "sb.lineplot(x='month',y='day',hue='user_type',data=bikes_clean_month_user, marker='o');\n",
    "plt.title(\"Monthly Bike Usage by User Type in 2018\", fontsize=14, y=1.03);\n",
    "plt.ylabel(\"Counts\", fontsize=12);"
   ]
  },
  {
   "cell_type": "markdown",
   "metadata": {},
   "source": [
    "> For both user types, the number of bike usage increased from 2018/01 to 2018/07, and started with a decreased trend afterwards.\n",
    "> \n",
    "> The number of bike usage by subscribers went up from about 80k to about 170k. It increased 90k rides, over 1 times compared to January. While there is only a little changes for Customer compared to Subscriber, which went from 10k to about 30k with only 20k rides. But compared to January, the number of rides increased about 2 times.\n",
    "> \n",
    "> The rise in October for Subscriber seems abnormal, while there was a decrease trend started from July. Moreover, this rise did not occur with the user type Customer. Probability there is some kind of reason, such as promotion which only apply to Subscriber in October, caused the rise."
   ]
  },
  {
   "cell_type": "markdown",
   "metadata": {},
   "source": [
    "**User_Type and Day (extract from start_time)**"
   ]
  },
  {
   "cell_type": "code",
   "execution_count": 34,
   "metadata": {
    "scrolled": true
   },
   "outputs": [
    {
     "data": {
      "image/png": "[encoded data removed]",
      "text/plain": [
       "<Figure size 720x360 with 2 Axes>"
      ]
     },
     "metadata": {
      "needs_background": "light"
     },
     "output_type": "display_data"
    }
   ],
   "source": [
    "#plot bar chart for counts of ride based on hour and user type\n",
    "g = sb.catplot(data=bikes_clean, x='day', col=\"user_type\", kind='count', sharey = False,\n",
    "            color = default_color)\n",
    "g.set_axis_labels(\"Day of Week\", \"Counts\")\n",
    "g.set_titles(\"{col_name}\")\n",
    "g.fig.suptitle('Weekly Bike Usage by User Type', y=1.03, fontsize=14);"
   ]
  },
  {
   "cell_type": "markdown",
   "metadata": {},
   "source": [
    "> There is difference on user type pattern for which day of week people using the bike sharing service. Subscribers are most probably daily work/school commuters who use the system at weekdays maily. On the other hand, customers are most probably used the bike sharing system on holiday or weekend for leisure purpose . "
   ]
  },
  {
   "cell_type": "markdown",
   "metadata": {},
   "source": [
    "**User_Type and Hour (extract from start_time)**"
   ]
  },
  {
   "cell_type": "code",
   "execution_count": 35,
   "metadata": {
    "scrolled": true
   },
   "outputs": [
    {
     "data": {
      "image/png": "[encoded data removed]",
      "text/plain": [
       "<Figure size 720x360 with 2 Axes>"
      ]
     },
     "metadata": {
      "needs_background": "light"
     },
     "output_type": "display_data"
    }
   ],
   "source": [
    "#plot bar chart for counts of ride based on hour and user type\n",
    "g = sb.catplot(data=bikes_clean, x='hour', col=\"user_type\", kind='count', sharey = False,\n",
    "            color = default_color)\n",
    "g.set_axis_labels(\"Hour\", \"Counts\")\n",
    "g.set_titles(\"{col_name}\")\n",
    "g.fig.suptitle('Monthly Bike Usage by User Type', y=1.03, fontsize=14);"
   ]
  },
  {
   "cell_type": "markdown",
   "metadata": {},
   "source": [
    "> There is also differences on the hour when the bikes were mostly used under different user type. Subscribers used the bikes maily during 7am - 9am and 4pm - 6pm probably for conmmuting. And customers used bikes mainly between 8 am - 7 pm, reaching the peak hour around 5pm, who are most probably the visitors using the bikes with no specific time."
   ]
  },
  {
   "cell_type": "markdown",
   "metadata": {},
   "source": [
    "**User Type and Location (extract from start_station_latitude and start_station_longitude)**"
   ]
  },
  {
   "cell_type": "code",
   "execution_count": 36,
   "metadata": {
    "scrolled": true
   },
   "outputs": [
    {
     "data": {
      "text/html": [
       "<div>\n",
       "<style scoped>\n",
       "    .dataframe tbody tr th:only-of-type {\n",
       "        vertical-align: middle;\n",
       "    }\n",
       "\n",
       "    .dataframe tbody tr th {\n",
       "        vertical-align: top;\n",
       "    }\n",
       "\n",
       "    .dataframe thead th {\n",
       "        text-align: right;\n",
       "    }\n",
       "</style>\n",
       "<table border=\"1\" class=\"dataframe\">\n",
       "  <thead>\n",
       "    <tr style=\"text-align: right;\">\n",
       "      <th></th>\n",
       "      <th>location</th>\n",
       "      <th>user_type</th>\n",
       "      <th>day</th>\n",
       "      <th>proportion</th>\n",
       "    </tr>\n",
       "  </thead>\n",
       "  <tbody>\n",
       "    <tr>\n",
       "      <th>0</th>\n",
       "      <td>San Francisco</td>\n",
       "      <td>Subscriber</td>\n",
       "      <td>1147930</td>\n",
       "      <td>0.842455</td>\n",
       "    </tr>\n",
       "    <tr>\n",
       "      <th>2</th>\n",
       "      <td>East Bay</td>\n",
       "      <td>Subscriber</td>\n",
       "      <td>347739</td>\n",
       "      <td>0.865317</td>\n",
       "    </tr>\n",
       "    <tr>\n",
       "      <th>4</th>\n",
       "      <td>San Jose</td>\n",
       "      <td>Subscriber</td>\n",
       "      <td>87874</td>\n",
       "      <td>0.885416</td>\n",
       "    </tr>\n",
       "  </tbody>\n",
       "</table>\n",
       "</div>"
      ],
      "text/plain": [
       "        location   user_type      day  proportion\n",
       "0  San Francisco  Subscriber  1147930    0.842455\n",
       "2       East Bay  Subscriber   347739    0.865317\n",
       "4       San Jose  Subscriber    87874    0.885416"
      ]
     },
     "execution_count": 36,
     "metadata": {},
     "output_type": "execute_result"
    }
   ],
   "source": [
    "#create sub data frame with the records of ride counts proportion under subscriber for line plot\n",
    "bikes_clean_prop=bikes_clean.groupby(['location','user_type']).count()[['day']]\n",
    "bikes_clean_prop['proportion']=bikes_clean_prop.groupby(level=0).apply(lambda x: x / float(x.sum()))\n",
    "bikes_clean_prop=bikes_clean_prop.reset_index()\n",
    "bikes_clean_prop=bikes_clean_prop[bikes_clean_prop.user_type=='Subscriber']\n",
    "bikes_clean_prop"
   ]
  },
  {
   "cell_type": "code",
   "execution_count": 37,
   "metadata": {
    "scrolled": true
   },
   "outputs": [
    {
     "data": {
      "text/plain": [
       "<matplotlib.legend.Legend at 0x23f5412cac8>"
      ]
     },
     "execution_count": 37,
     "metadata": {},
     "output_type": "execute_result"
    },
    {
     "data": {
      "image/png": "[encoded data removed]",
      "text/plain": [
       "<Figure size 648x360 with 2 Axes>"
      ]
     },
     "metadata": {
      "needs_background": "light"
     },
     "output_type": "display_data"
    }
   ],
   "source": [
    "#plot bar chart for counts of ride based on location and user type\n",
    "fig, ax1 = plt.subplots(figsize=(9, 5))\n",
    "sb.countplot(x='location',hue='user_type',data=bikes_clean,ax=ax1)\n",
    "ax1.set_title(\"Number/Proportion of Bike Usage by Location and User Type\", fontsize=16, y=1.03);\n",
    "ax1.set_xlabel('');\n",
    "ax1.set_ylabel(\"Counts\", fontsize=12);\n",
    "\n",
    "#plot line chart for proportion of subscribers\n",
    "ax2 = ax1.twinx();\n",
    "sb.lineplot(x='location',y='proportion',data=bikes_clean_prop,sort=False, legend='brief',marker='o',color='r',ax=ax2);\n",
    "ax2.set_ylabel('Proportion of Subscriber', fontsize=12);\n",
    "ax2.set_ylim([0,1]);\n",
    "ax2.legend(['proportion'],loc='lower right')"
   ]
  },
  {
   "cell_type": "markdown",
   "metadata": {},
   "source": [
    "> From the bar chart, we can see there is higher demand of bike rides for both user types in San Francisco compared to East Bay and San Jose.\n",
    "> \n",
    "> And from the line plot, it shows the proportion of ride counts by Subscriber, which is 84.2% in San Francisco, 86.5% in East Bay, 88.5% in San Jose. \n",
    "> \n",
    "> There is no much difference for the proportion of user types between locations. The subscribers covered most of the bike users in all of the three locations."
   ]
  },
  {
   "cell_type": "markdown",
   "metadata": {},
   "source": [
    "**User_Type and Duration**"
   ]
  },
  {
   "cell_type": "code",
   "execution_count": 38,
   "metadata": {},
   "outputs": [
    {
     "data": {
      "text/html": [
       "<div>\n",
       "<style scoped>\n",
       "    .dataframe tbody tr th:only-of-type {\n",
       "        vertical-align: middle;\n",
       "    }\n",
       "\n",
       "    .dataframe tbody tr th {\n",
       "        vertical-align: top;\n",
       "    }\n",
       "\n",
       "    .dataframe thead th {\n",
       "        text-align: right;\n",
       "    }\n",
       "</style>\n",
       "<table border=\"1\" class=\"dataframe\">\n",
       "  <thead>\n",
       "    <tr style=\"text-align: right;\">\n",
       "      <th></th>\n",
       "      <th>count</th>\n",
       "      <th>mean</th>\n",
       "      <th>std</th>\n",
       "      <th>min</th>\n",
       "      <th>25%</th>\n",
       "      <th>50%</th>\n",
       "      <th>75%</th>\n",
       "      <th>max</th>\n",
       "    </tr>\n",
       "    <tr>\n",
       "      <th>user_type</th>\n",
       "      <th></th>\n",
       "      <th></th>\n",
       "      <th></th>\n",
       "      <th></th>\n",
       "      <th></th>\n",
       "      <th></th>\n",
       "      <th></th>\n",
       "      <th></th>\n",
       "    </tr>\n",
       "  </thead>\n",
       "  <tbody>\n",
       "    <tr>\n",
       "      <th>Subscriber</th>\n",
       "      <td>1583543.0</td>\n",
       "      <td>668.786961</td>\n",
       "      <td>1367.820830</td>\n",
       "      <td>61.0</td>\n",
       "      <td>330.0</td>\n",
       "      <td>515.0</td>\n",
       "      <td>784.0</td>\n",
       "      <td>86281.0</td>\n",
       "    </tr>\n",
       "    <tr>\n",
       "      <th>Customer</th>\n",
       "      <td>280167.0</td>\n",
       "      <td>1922.779528</td>\n",
       "      <td>5046.305212</td>\n",
       "      <td>61.0</td>\n",
       "      <td>581.0</td>\n",
       "      <td>947.0</td>\n",
       "      <td>1571.0</td>\n",
       "      <td>86366.0</td>\n",
       "    </tr>\n",
       "  </tbody>\n",
       "</table>\n",
       "</div>"
      ],
      "text/plain": [
       "                count         mean          std   min    25%    50%     75%  \\\n",
       "user_type                                                                     \n",
       "Subscriber  1583543.0   668.786961  1367.820830  61.0  330.0  515.0   784.0   \n",
       "Customer     280167.0  1922.779528  5046.305212  61.0  581.0  947.0  1571.0   \n",
       "\n",
       "                max  \n",
       "user_type            \n",
       "Subscriber  86281.0  \n",
       "Customer    86366.0  "
      ]
     },
     "execution_count": 38,
     "metadata": {},
     "output_type": "execute_result"
    }
   ],
   "source": [
    "#statistics of duration by user type\n",
    "bikes_clean.groupby('user_type').duration_sec.describe()"
   ]
  },
  {
   "cell_type": "code",
   "execution_count": 39,
   "metadata": {
    "scrolled": true
   },
   "outputs": [
    {
     "data": {
      "image/png": "[encoded data removed]",
      "text/plain": [
       "<Figure size 432x288 with 1 Axes>"
      ]
     },
     "metadata": {
      "needs_background": "light"
     },
     "output_type": "display_data"
    }
   ],
   "source": [
    "#plot box plot with duration under 4000s by user type\n",
    "sb.boxplot(data = bikes_clean, x = 'user_type', y = 'duration_sec',color = default_color);\n",
    "plt.title('Ditribution of Duration by User Type')\n",
    "plt.ylim([0,4000]);"
   ]
  },
  {
   "cell_type": "markdown",
   "metadata": {},
   "source": [
    "> Subscribers tend to make lots of short rides in bicycle, with a median abount 500s (8 mins). Customers tend to spend longer rides with a median about 1000s (15 mins). This can probably be explained by the fact that subscribers are mainly commuters who take short trips to work/school rather than longer trips around the Bay Area."
   ]
  },
  {
   "cell_type": "markdown",
   "metadata": {},
   "source": [
    "### Talk about some of the relationships you observed in this part of the investigation. How did the feature(s) of interest vary with other features in the dataset?\n",
    "\n",
    "> About the differences on bike usage based on start hour and weekday/weekend:\n",
    "- Weekday: Peak hours of bike rides are 7 am-9 am and 4 pm-6 pm. And there are more people taking bike rides on weekdays compared to weekends. It seems that the main purpose for users to ride bikes might be for commuting.\n",
    "- Weekend: Peak hours is not observed on weekends. And the number of bike usage is much less than weekdays.\n",
    "> \n",
    "> About the differences of bike usage based on user types:\n",
    "- Subscriber:  Subscribers are daily commuters, who used bike rides mostly around summertime, May-October (with the peak in October). They rent bikes more often during weekdays than weekends and mainly the rush hour for commuting (8-9am and 5-6pm). Subscribers tend to make lots of short rides in bicycle, with a median of 8 minutes. This should depend on the short disance between their workplace/school and their living palces. The number of subscribers is in order of San Francisco > East Bay > San Jose. And they are the majority of the users in all of the three locations up to about 85%.\n",
    "- Customer: As mentioned above customers are casual riders, most probably tourists who rent bikes mainly in summertime (the peak in July), more often during weekends than weekdays. And they rent bikes more often within the day rather than around commute hours (8-9am and 5-6pm). They tend to take longer ride at the median about 15 mins instead of short trips for more likely the leisure purpose. The order of number of customers is same as subscribers in order of San Francisco > East Bay > San Jose.\n",
    "\n",
    "### Did you observe any interesting relationships between the other features (not the main feature(s) of interest)?\n",
    "\n",
    "> There was an odd ride increase during October, but only for the subscribers, for which there is no clear reason, maybe related to any promotion only for subscribers which caused the increase of bike usage. In the next month, November, there was a sudden ride decrease, which could be related to the wildfires in California which caused the air pollution."
   ]
  },
  {
   "cell_type": "markdown",
   "metadata": {},
   "source": [
    "## Multivariate Exploration\n",
    "\n",
    "> In this section I will further explore the dataset on the `user type patterns` by ①adding `weekday/weekend` to investigate the distribution of `duration`, and ②adding `day of week` to investigate the distribution of `hourly bike usage`."
   ]
  },
  {
   "cell_type": "markdown",
   "metadata": {},
   "source": [
    "**User_Type and Weekday/Weekend and Duration**"
   ]
  },
  {
   "cell_type": "code",
   "execution_count": 40,
   "metadata": {},
   "outputs": [
    {
     "data": {
      "text/html": [
       "<div>\n",
       "<style scoped>\n",
       "    .dataframe tbody tr th:only-of-type {\n",
       "        vertical-align: middle;\n",
       "    }\n",
       "\n",
       "    .dataframe tbody tr th {\n",
       "        vertical-align: top;\n",
       "    }\n",
       "\n",
       "    .dataframe thead th {\n",
       "        text-align: right;\n",
       "    }\n",
       "</style>\n",
       "<table border=\"1\" class=\"dataframe\">\n",
       "  <thead>\n",
       "    <tr style=\"text-align: right;\">\n",
       "      <th></th>\n",
       "      <th></th>\n",
       "      <th>count</th>\n",
       "      <th>mean</th>\n",
       "      <th>std</th>\n",
       "      <th>min</th>\n",
       "      <th>25%</th>\n",
       "      <th>50%</th>\n",
       "      <th>75%</th>\n",
       "      <th>max</th>\n",
       "    </tr>\n",
       "    <tr>\n",
       "      <th>user_type</th>\n",
       "      <th>weekday_or_weekend</th>\n",
       "      <th></th>\n",
       "      <th></th>\n",
       "      <th></th>\n",
       "      <th></th>\n",
       "      <th></th>\n",
       "      <th></th>\n",
       "      <th></th>\n",
       "      <th></th>\n",
       "    </tr>\n",
       "  </thead>\n",
       "  <tbody>\n",
       "    <tr>\n",
       "      <th rowspan=\"2\" valign=\"top\">Subscriber</th>\n",
       "      <th>weekday</th>\n",
       "      <td>1352558.0</td>\n",
       "      <td>652.458077</td>\n",
       "      <td>1291.574914</td>\n",
       "      <td>61.0</td>\n",
       "      <td>330.0</td>\n",
       "      <td>513.0</td>\n",
       "      <td>774.0</td>\n",
       "      <td>86205.0</td>\n",
       "    </tr>\n",
       "    <tr>\n",
       "      <th>weekend</th>\n",
       "      <td>230985.0</td>\n",
       "      <td>764.402533</td>\n",
       "      <td>1745.729976</td>\n",
       "      <td>61.0</td>\n",
       "      <td>328.0</td>\n",
       "      <td>530.0</td>\n",
       "      <td>855.0</td>\n",
       "      <td>86281.0</td>\n",
       "    </tr>\n",
       "    <tr>\n",
       "      <th rowspan=\"2\" valign=\"top\">Customer</th>\n",
       "      <th>weekday</th>\n",
       "      <td>182224.0</td>\n",
       "      <td>1752.251586</td>\n",
       "      <td>4911.600086</td>\n",
       "      <td>61.0</td>\n",
       "      <td>541.0</td>\n",
       "      <td>862.0</td>\n",
       "      <td>1413.0</td>\n",
       "      <td>86003.0</td>\n",
       "    </tr>\n",
       "    <tr>\n",
       "      <th>weekend</th>\n",
       "      <td>97943.0</td>\n",
       "      <td>2240.048589</td>\n",
       "      <td>5273.173344</td>\n",
       "      <td>61.0</td>\n",
       "      <td>684.0</td>\n",
       "      <td>1146.0</td>\n",
       "      <td>1827.0</td>\n",
       "      <td>86366.0</td>\n",
       "    </tr>\n",
       "  </tbody>\n",
       "</table>\n",
       "</div>"
      ],
      "text/plain": [
       "                                   count         mean          std   min  \\\n",
       "user_type  weekday_or_weekend                                              \n",
       "Subscriber weekday             1352558.0   652.458077  1291.574914  61.0   \n",
       "           weekend              230985.0   764.402533  1745.729976  61.0   \n",
       "Customer   weekday              182224.0  1752.251586  4911.600086  61.0   \n",
       "           weekend               97943.0  2240.048589  5273.173344  61.0   \n",
       "\n",
       "                                 25%     50%     75%      max  \n",
       "user_type  weekday_or_weekend                                  \n",
       "Subscriber weekday             330.0   513.0   774.0  86205.0  \n",
       "           weekend             328.0   530.0   855.0  86281.0  \n",
       "Customer   weekday             541.0   862.0  1413.0  86003.0  \n",
       "           weekend             684.0  1146.0  1827.0  86366.0  "
      ]
     },
     "execution_count": 40,
     "metadata": {},
     "output_type": "execute_result"
    }
   ],
   "source": [
    "#statistics of duration by user type and weekday_or_weekend\n",
    "bikes_clean.groupby(['user_type','weekday_or_weekend']).duration_sec.describe()"
   ]
  },
  {
   "cell_type": "code",
   "execution_count": 41,
   "metadata": {},
   "outputs": [
    {
     "name": "stderr",
     "output_type": "stream",
     "text": [
      "C:\\Users\\90712\\anaconda3\\lib\\site-packages\\seaborn\\axisgrid.py:728: UserWarning: Using the boxplot function without specifying `order` is likely to produce an incorrect plot.\n",
      "  warnings.warn(warning)\n"
     ]
    },
    {
     "data": {
      "image/png": "[encoded data removed]",
      "text/plain": [
       "<Figure size 720x360 with 2 Axes>"
      ]
     },
     "metadata": {},
     "output_type": "display_data"
    }
   ],
   "source": [
    "#draw box plot to see the distribution of duration by user type and weekday/weekend\n",
    "sb.set(font_scale=1.2);\n",
    "g = sb.FacetGrid(data = bikes_clean, col = 'user_type', height = 5, ylim=[0,4000]);\n",
    "g.map(sb.boxplot, 'weekday_or_weekend', 'duration_sec');"
   ]
  },
  {
   "cell_type": "markdown",
   "metadata": {},
   "source": [
    "> - Subscriber: When looking into the variable weekday_or_weekend, there is only slightly increase on the duration of weekend compared to weekday. In general, subscribers tend to make shorter rides than customers at the median about 8 mins.\n",
    "> - Customer: Customers took longer ride at weekends than weekdays. At weekends, the median is about 1200s (20mins), and it is about 900s (15mins) at weekdays. The median of duration during both of the period are significantly higher than subscribers."
   ]
  },
  {
   "cell_type": "markdown",
   "metadata": {},
   "source": [
    "**User_Type and Day and Hour**"
   ]
  },
  {
   "cell_type": "code",
   "execution_count": 42,
   "metadata": {},
   "outputs": [],
   "source": [
    "#create sub data frame for user type subscriber\n",
    "bikes_clean_subscriber=bikes_clean.query('user_type == \"Subscriber\"').groupby([\"hour\", \"day\"])[\"duration_sec\"].count().reset_index()\n",
    "bikes_clean_subscriber=bikes_clean_subscriber.pivot(\"hour\", \"day\", \"duration_sec\")\n",
    "\n",
    "#create sub data frame for user type customer\n",
    "bikes_clean_customer=bikes_clean.query('user_type == \"Customer\"').groupby([\"hour\", \"day\"])[\"duration_sec\"].count().reset_index()\n",
    "bikes_clean_customer=bikes_clean_customer.pivot(\"hour\", \"day\", \"duration_sec\")"
   ]
  },
  {
   "cell_type": "code",
   "execution_count": 43,
   "metadata": {
    "scrolled": true
   },
   "outputs": [
    {
     "data": {
      "image/png": "[encoded data removed]",
      "text/plain": [
       "<Figure size 1008x576 with 4 Axes>"
      ]
     },
     "metadata": {},
     "output_type": "display_data"
    }
   ],
   "source": [
    "#set figure size and title\n",
    "plt.figure(figsize=(14,8));\n",
    "plt.suptitle('Hourly Bike Usage related to Days of Week and User Types', fontsize=14, fontweight='semibold')\n",
    "\n",
    "# heatmap for subscribers\n",
    "plt.subplot(1, 2, 1);\n",
    "sb.heatmap(bikes_clean_subscriber,cmap = 'viridis_r');\n",
    "plt.title(\"Subscriber\");\n",
    "plt.yticks(rotation=0);\n",
    "\n",
    "# heatmap for customers\n",
    "plt.subplot(1, 2, 2);\n",
    "sb.heatmap(bikes_clean_customer,cmap = 'viridis_r');\n",
    "plt.title(\"Customer\");\n",
    "plt.yticks(rotation=0);"
   ]
  },
  {
   "cell_type": "markdown",
   "metadata": {},
   "source": [
    "> From the above plot, it clearly clarifies the user type patterns for the purpose of bike usage, and shows when the high demand of bike rides is.\n",
    "- Subscribers use the bike sharing system mainly on weekdays:\n",
    "  - weekdays: Most bike rides happened around 7am-9am and 4pm-6pm\n",
    "> weekends: The number of bike rides dropped significantly, and no peak hours observed\n",
    "- Customers use the bike sharing system more often on weekends:\n",
    "  - weekdays: most bike rides happened around 8am-9am and 4pm-6pm, and there are more usage around 4pm-6pm compared to 8am-9am. However, the number of usage is much less than subscribers in the same period.\n",
    "  - weekends: most bike rides happened between 10am - 6pm, and the number of usage is significantly higher compared to weekdays and also much more higher than the subscribers in the same period.\n",
    "> \n",
    "> Most of the subscribers are using the bike sharing system maily for commuting, and they are more likely to be the citizens in the related location. That can explain why more subscribers took use of the bike sharing system in the rush hours of weekdays rather than weekends.\n",
    "> \n",
    "> On the other hand, most of the customers used the bike sharing system maily for leisure purpose, and they are more likely to be the visitors in those locations. That can explain why more customers took use of the bike sharing system in the daytime on weekends, and relatively less of them took bike rides on weekdays."
   ]
  },
  {
   "cell_type": "markdown",
   "metadata": {},
   "source": [
    "### Talk about some of the relationships you observed in this part of the investigation. Were there features that strengthened each other in terms of looking at your feature(s) of interest?\n",
    "\n",
    "> Plotting a heatmap of when bikes are high in demand by day of week and hour shed a new light on the user type patterns. Plotting counts of bike usage by hour and day of week separately in Bivariate Exploration section, gave the impression that the demand for bikes of customers is quite high at peak hour around 5pm which is not entirely true. The trend within weekdays for customers follows the one for subscribers who rent bikes mainly around commute hours (7-9am and 4-6pm). For customers, as the findings in Bivariate Exploration, most of the bike rides happened on weekends, but the time period mainly between 10am - 6pm which was not visible in previous Bivariate Exploration section .\n",
    "\n",
    "### Were there any interesting or surprising interactions between features?\n",
    "\n",
    "> The user patterns in the duration of weekday/weekend usage surprised me that, with the time limit 45mins per ride for subscribers, the duration is much shorter than customers (30mins per ride). And there is no big difference on duration at weekdays or weekends for subscribers, both are at the median around 8 mins. It is likely that subscribers are mainly the citizens lived in that region, so they will use bikes more on commuting rather than taking longer ride at weekend for visiting.\n",
    "> \n",
    "> On the other hand, customers, who is maily the visitors, spent more time on single bike ride, especially at weekends. It is likely that they are taking more advantage of bike sharing system for leisure purpose at weekends. Visitors usually enjoy their trips, and will not rush to destinations like the commuters do."
   ]
  },
  {
   "cell_type": "code",
   "execution_count": 44,
   "metadata": {},
   "outputs": [],
   "source": [
    "#export cleaned dataset to csv file\n",
    "bikes_clean.to_csv('bikes_clean.csv',index=False)"
   ]
  }
 ],
 "metadata": {
  "kernelspec": {
   "display_name": "Python 3",
   "language": "python",
   "name": "python3"
  },
  "language_info": {
   "codemirror_mode": {
    "name": "ipython",
    "version": 3
   },
   "file_extension": ".py",
   "mimetype": "text/x-python",
   "name": "python",
   "nbconvert_exporter": "python",
   "pygments_lexer": "ipython3",
   "version": "3.7.6"
  }
 },
 "nbformat": 4,
 "nbformat_minor": 2
}
