{
 "cells": [
  {
   "cell_type": "markdown",
   "metadata": {},
   "source": [
    "# Project1_Explore Weather Trends"
   ]
  },
  {
   "cell_type": "markdown",
   "metadata": {},
   "source": [
    "**・Using Python to analyze the weather trends**"
   ]
  },
  {
   "cell_type": "code",
   "execution_count": 1,
   "metadata": {},
   "outputs": [],
   "source": [
    "import pandas as pd\n",
    "import numpy as np\n",
    "import matplotlib.pyplot as plt"
   ]
  },
  {
   "cell_type": "markdown",
   "metadata": {},
   "source": [
    "**・Extract data using SQL and download in csv**\n",
    "\n",
    "    SELECT a.year, \n",
    "           a.avg_temp AS avg_temp_tokyo, \n",
    "           b.avg_temp as avg_temp_global \n",
    "    FROM city_data AS a \n",
    "    INNER JOIN global_data AS b \n",
    "    ON a.year=b.year \n",
    "    WHERE a.city='Tokyo' AND a.avg_temp IS NOT NULL AND b.avg_temp IS NOT NULL"
   ]
  },
  {
   "cell_type": "code",
   "execution_count": 2,
   "metadata": {},
   "outputs": [],
   "source": [
    "df=pd.read_csv('weather_trends.csv')"
   ]
  },
  {
   "cell_type": "code",
   "execution_count": 3,
   "metadata": {},
   "outputs": [
    {
     "data": {
      "text/html": [
       "<div>\n",
       "<style scoped>\n",
       "    .dataframe tbody tr th:only-of-type {\n",
       "        vertical-align: middle;\n",
       "    }\n",
       "\n",
       "    .dataframe tbody tr th {\n",
       "        vertical-align: top;\n",
       "    }\n",
       "\n",
       "    .dataframe thead th {\n",
       "        text-align: right;\n",
       "    }\n",
       "</style>\n",
       "<table border=\"1\" class=\"dataframe\">\n",
       "  <thead>\n",
       "    <tr style=\"text-align: right;\">\n",
       "      <th></th>\n",
       "      <th>year</th>\n",
       "      <th>avg_temp_tokyo</th>\n",
       "      <th>avg_temp_global</th>\n",
       "    </tr>\n",
       "  </thead>\n",
       "  <tbody>\n",
       "    <tr>\n",
       "      <th>0</th>\n",
       "      <td>1845</td>\n",
       "      <td>11.95</td>\n",
       "      <td>7.85</td>\n",
       "    </tr>\n",
       "    <tr>\n",
       "      <th>1</th>\n",
       "      <td>1846</td>\n",
       "      <td>12.40</td>\n",
       "      <td>8.55</td>\n",
       "    </tr>\n",
       "    <tr>\n",
       "      <th>2</th>\n",
       "      <td>1847</td>\n",
       "      <td>12.21</td>\n",
       "      <td>8.09</td>\n",
       "    </tr>\n",
       "    <tr>\n",
       "      <th>3</th>\n",
       "      <td>1848</td>\n",
       "      <td>12.14</td>\n",
       "      <td>7.98</td>\n",
       "    </tr>\n",
       "    <tr>\n",
       "      <th>4</th>\n",
       "      <td>1849</td>\n",
       "      <td>12.14</td>\n",
       "      <td>7.98</td>\n",
       "    </tr>\n",
       "    <tr>\n",
       "      <th>...</th>\n",
       "      <td>...</td>\n",
       "      <td>...</td>\n",
       "      <td>...</td>\n",
       "    </tr>\n",
       "    <tr>\n",
       "      <th>164</th>\n",
       "      <td>2009</td>\n",
       "      <td>13.55</td>\n",
       "      <td>9.51</td>\n",
       "    </tr>\n",
       "    <tr>\n",
       "      <th>165</th>\n",
       "      <td>2010</td>\n",
       "      <td>13.82</td>\n",
       "      <td>9.70</td>\n",
       "    </tr>\n",
       "    <tr>\n",
       "      <th>166</th>\n",
       "      <td>2011</td>\n",
       "      <td>13.32</td>\n",
       "      <td>9.52</td>\n",
       "    </tr>\n",
       "    <tr>\n",
       "      <th>167</th>\n",
       "      <td>2012</td>\n",
       "      <td>13.11</td>\n",
       "      <td>9.51</td>\n",
       "    </tr>\n",
       "    <tr>\n",
       "      <th>168</th>\n",
       "      <td>2013</td>\n",
       "      <td>13.91</td>\n",
       "      <td>9.61</td>\n",
       "    </tr>\n",
       "  </tbody>\n",
       "</table>\n",
       "<p>169 rows × 3 columns</p>\n",
       "</div>"
      ],
      "text/plain": [
       "     year  avg_temp_tokyo  avg_temp_global\n",
       "0    1845           11.95             7.85\n",
       "1    1846           12.40             8.55\n",
       "2    1847           12.21             8.09\n",
       "3    1848           12.14             7.98\n",
       "4    1849           12.14             7.98\n",
       "..    ...             ...              ...\n",
       "164  2009           13.55             9.51\n",
       "165  2010           13.82             9.70\n",
       "166  2011           13.32             9.52\n",
       "167  2012           13.11             9.51\n",
       "168  2013           13.91             9.61\n",
       "\n",
       "[169 rows x 3 columns]"
      ]
     },
     "execution_count": 3,
     "metadata": {},
     "output_type": "execute_result"
    }
   ],
   "source": [
    "df"
   ]
  },
  {
   "cell_type": "code",
   "execution_count": 4,
   "metadata": {},
   "outputs": [
    {
     "data": {
      "text/plain": [
       "(169, 3)"
      ]
     },
     "execution_count": 4,
     "metadata": {},
     "output_type": "execute_result"
    }
   ],
   "source": [
    "df.shape"
   ]
  },
  {
   "cell_type": "markdown",
   "metadata": {},
   "source": [
    "**・Calculate Moving Averages by the temperature in last 10 years**"
   ]
  },
  {
   "cell_type": "code",
   "execution_count": 5,
   "metadata": {},
   "outputs": [],
   "source": [
    "for n in range(9,169):\n",
    "    df.loc[n,'avg_temp_tokyo']=np.mean(df.avg_temp_tokyo[n-9:n+1])\n",
    "    df.loc[n,'avg_temp_global']=np.mean(df.avg_temp_global[n-9:n+1])\n",
    "    n+=1"
   ]
  },
  {
   "cell_type": "code",
   "execution_count": 6,
   "metadata": {},
   "outputs": [],
   "source": [
    "df_ma=df.iloc[9:].reset_index(drop=True)"
   ]
  },
  {
   "cell_type": "code",
   "execution_count": 7,
   "metadata": {},
   "outputs": [
    {
     "data": {
      "text/html": [
       "<div>\n",
       "<style scoped>\n",
       "    .dataframe tbody tr th:only-of-type {\n",
       "        vertical-align: middle;\n",
       "    }\n",
       "\n",
       "    .dataframe tbody tr th {\n",
       "        vertical-align: top;\n",
       "    }\n",
       "\n",
       "    .dataframe thead th {\n",
       "        text-align: right;\n",
       "    }\n",
       "</style>\n",
       "<table border=\"1\" class=\"dataframe\">\n",
       "  <thead>\n",
       "    <tr style=\"text-align: right;\">\n",
       "      <th></th>\n",
       "      <th>year</th>\n",
       "      <th>avg_temp_tokyo</th>\n",
       "      <th>avg_temp_global</th>\n",
       "    </tr>\n",
       "  </thead>\n",
       "  <tbody>\n",
       "    <tr>\n",
       "      <th>0</th>\n",
       "      <td>1854</td>\n",
       "      <td>12.014000</td>\n",
       "      <td>8.088000</td>\n",
       "    </tr>\n",
       "    <tr>\n",
       "      <th>1</th>\n",
       "      <td>1855</td>\n",
       "      <td>12.052400</td>\n",
       "      <td>8.101800</td>\n",
       "    </tr>\n",
       "    <tr>\n",
       "      <th>2</th>\n",
       "      <td>1856</td>\n",
       "      <td>11.967640</td>\n",
       "      <td>8.045980</td>\n",
       "    </tr>\n",
       "    <tr>\n",
       "      <th>3</th>\n",
       "      <td>1857</td>\n",
       "      <td>11.931404</td>\n",
       "      <td>8.017578</td>\n",
       "    </tr>\n",
       "    <tr>\n",
       "      <th>4</th>\n",
       "      <td>1858</td>\n",
       "      <td>11.939544</td>\n",
       "      <td>8.055336</td>\n",
       "    </tr>\n",
       "    <tr>\n",
       "      <th>...</th>\n",
       "      <td>...</td>\n",
       "      <td>...</td>\n",
       "      <td>...</td>\n",
       "    </tr>\n",
       "    <tr>\n",
       "      <th>155</th>\n",
       "      <td>2009</td>\n",
       "      <td>12.882625</td>\n",
       "      <td>8.873762</td>\n",
       "    </tr>\n",
       "    <tr>\n",
       "      <th>156</th>\n",
       "      <td>2010</td>\n",
       "      <td>12.920673</td>\n",
       "      <td>8.907925</td>\n",
       "    </tr>\n",
       "    <tr>\n",
       "      <th>157</th>\n",
       "      <td>2011</td>\n",
       "      <td>12.888111</td>\n",
       "      <td>8.905552</td>\n",
       "    </tr>\n",
       "    <tr>\n",
       "      <th>158</th>\n",
       "      <td>2012</td>\n",
       "      <td>12.877239</td>\n",
       "      <td>8.916962</td>\n",
       "    </tr>\n",
       "    <tr>\n",
       "      <th>159</th>\n",
       "      <td>2013</td>\n",
       "      <td>12.969645</td>\n",
       "      <td>8.939312</td>\n",
       "    </tr>\n",
       "  </tbody>\n",
       "</table>\n",
       "<p>160 rows × 3 columns</p>\n",
       "</div>"
      ],
      "text/plain": [
       "     year  avg_temp_tokyo  avg_temp_global\n",
       "0    1854       12.014000         8.088000\n",
       "1    1855       12.052400         8.101800\n",
       "2    1856       11.967640         8.045980\n",
       "3    1857       11.931404         8.017578\n",
       "4    1858       11.939544         8.055336\n",
       "..    ...             ...              ...\n",
       "155  2009       12.882625         8.873762\n",
       "156  2010       12.920673         8.907925\n",
       "157  2011       12.888111         8.905552\n",
       "158  2012       12.877239         8.916962\n",
       "159  2013       12.969645         8.939312\n",
       "\n",
       "[160 rows x 3 columns]"
      ]
     },
     "execution_count": 7,
     "metadata": {},
     "output_type": "execute_result"
    }
   ],
   "source": [
    "df_ma"
   ]
  },
  {
   "cell_type": "markdown",
   "metadata": {},
   "source": [
    "**・Line Plot**"
   ]
  },
  {
   "cell_type": "markdown",
   "metadata": {},
   "source": [
    "**・key considerations on deciding how to visualize the trends**\n",
    "    \n",
    "    ・Adding both lines of global and Tokyo in one plot for visualization\n",
    "    ・Adding the linear equation to clarify the temperature changes by checking the slope"
   ]
  },
  {
   "cell_type": "code",
   "execution_count": 8,
   "metadata": {},
   "outputs": [
    {
     "data": {
      "image/png": "[encoded data removed]",
      "text/plain": [
       "<Figure size 864x576 with 1 Axes>"
      ]
     },
     "metadata": {
      "needs_background": "light"
     },
     "output_type": "display_data"
    }
   ],
   "source": [
    "plt.figure(figsize=(12,8))\n",
    "#plot moving averages\n",
    "plt.plot(df['year'],df['avg_temp_tokyo'],label='tokyo')\n",
    "plt.plot(df['year'],df['avg_temp_global'],label='global')\n",
    "\n",
    "#linear equation\n",
    "m_tokyo, b_tokyo = np.polyfit(df['year'], df['avg_temp_tokyo'], 1)\n",
    "plt.plot(df['year'], m_tokyo*df['year'] + b_tokyo, linestyle='--', alpha=0.3, color='r',label='y={:.4f}x+{:.2f}'.format(m_tokyo,b_tokyo))\n",
    "m_global, b_global = np.polyfit(df['year'], df['avg_temp_global'], 1)\n",
    "plt.plot(df['year'], m_global*df['year'] + b_global, linestyle='--', alpha=0.3, color='g',label='y={:.4f}x+{:.2f}'.format(m_global,b_global))\n",
    "\n",
    "#add label\n",
    "plt.xlabel('Year')\n",
    "plt.ylabel('Moving Average Temperature for 10 years')\n",
    "\n",
    "plt.legend()\n",
    "plt.show()"
   ]
  },
  {
   "cell_type": "markdown",
   "metadata": {},
   "source": [
    "**・Observations**\n",
    "\n",
    "    ・Tokyo is about 4 degrees hotter on average compared to the global average. The difference has been consistent over time.\n",
    "    ・Both the changes in average temperatures of Tokyo and global are in upward trends.\n",
    "    ・As shown in the slope of the linear equation, the slope of Tokyo is higher than the one of global, which means the average    temperature changes in Tokyo is slightly higher compare to global.\n",
    "    ・The upward trend for global and Tokyo temperature changes has been consistent over the last hundred years, and it's getting serious especially since 1990s."
   ]
  },
  {
   "cell_type": "code",
   "execution_count": null,
   "metadata": {},
   "outputs": [],
   "source": []
  }
 ],
 "metadata": {
  "kernelspec": {
   "display_name": "Python 3",
   "language": "python",
   "name": "python3"
  },
  "language_info": {
   "codemirror_mode": {
    "name": "ipython",
    "version": 3
   },
   "file_extension": ".py",
   "mimetype": "text/x-python",
   "name": "python",
   "nbconvert_exporter": "python",
   "pygments_lexer": "ipython3",
   "version": "3.7.6"
  }
 },
 "nbformat": 4,
 "nbformat_minor": 4
}
